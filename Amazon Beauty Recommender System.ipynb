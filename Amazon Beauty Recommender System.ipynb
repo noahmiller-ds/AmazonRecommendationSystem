{
 "cells": [
  {
   "cell_type": "markdown",
   "id": "b0a5036d",
   "metadata": {},
   "source": [
    "# Noah Miller GitHub Python Project 3: Recommender System using Amazon Beauty Products\n",
    "\n",
    "The purpose of this notebook is for me to gain more understanding with recommender systems. Intuitively, this makes sense to me based on my experienced with Amazon and Netflix in particular. Their recommender systems, whether for shopping or watching content, are both great in either making me feel like I should buy a particular product or start watching a new show. Therefore, for this project, I will try to recreate a recommender system in Python using the dataset of Amazon beauty products from https://www.kaggle.com/datasets/skillsmuggler/amazon-ratings.\n",
    "\n",
    "\n",
    "## Step 1: Importing Data and some Necessary Libraries\n",
    "\n",
    "First I'm going to import the libraries I will be using."
   ]
  },
  {
   "cell_type": "code",
   "execution_count": 1,
   "id": "7c57f549",
   "metadata": {},
   "outputs": [],
   "source": [
    "import pandas as pd  # Just really good for reading in data in a tabular format\n",
    "import numpy as np  # You never know when you'll need to do some numerical manipulations\n",
    "import matplotlib.pyplot as plt  # Good for some visual EDA\n",
    "import warnings  # Used to filter out warnings\n",
    "warnings.filterwarnings('ignore')  # Tells Python to ignore warnings\n",
    "import multiprocess as mp  # Useful for some parallel computing if we need it\n",
    "from datetime import datetime  # For converting seconds to a date"
   ]
  },
  {
   "cell_type": "markdown",
   "id": "3e2be2f0",
   "metadata": {},
   "source": [
    "With these libraries loaded, now I will import my data and look at some statistics about it both in terms of the data itself as well as its size; I believe being able to manage your data from statistical and algorithmic perspectives alike are necessary for efficient data science."
   ]
  },
  {
   "cell_type": "code",
   "execution_count": 2,
   "id": "b1d16483",
   "metadata": {},
   "outputs": [
    {
     "data": {
      "text/html": [
       "<div>\n",
       "<style scoped>\n",
       "    .dataframe tbody tr th:only-of-type {\n",
       "        vertical-align: middle;\n",
       "    }\n",
       "\n",
       "    .dataframe tbody tr th {\n",
       "        vertical-align: top;\n",
       "    }\n",
       "\n",
       "    .dataframe thead th {\n",
       "        text-align: right;\n",
       "    }\n",
       "</style>\n",
       "<table border=\"1\" class=\"dataframe\">\n",
       "  <thead>\n",
       "    <tr style=\"text-align: right;\">\n",
       "      <th></th>\n",
       "      <th>UserId</th>\n",
       "      <th>ProductId</th>\n",
       "      <th>Rating</th>\n",
       "      <th>Timestamp</th>\n",
       "    </tr>\n",
       "  </thead>\n",
       "  <tbody>\n",
       "    <tr>\n",
       "      <th>0</th>\n",
       "      <td>A39HTATAQ9V7YF</td>\n",
       "      <td>0205616461</td>\n",
       "      <td>5.0</td>\n",
       "      <td>1369699200</td>\n",
       "    </tr>\n",
       "    <tr>\n",
       "      <th>1</th>\n",
       "      <td>A3JM6GV9MNOF9X</td>\n",
       "      <td>0558925278</td>\n",
       "      <td>3.0</td>\n",
       "      <td>1355443200</td>\n",
       "    </tr>\n",
       "    <tr>\n",
       "      <th>2</th>\n",
       "      <td>A1Z513UWSAAO0F</td>\n",
       "      <td>0558925278</td>\n",
       "      <td>5.0</td>\n",
       "      <td>1404691200</td>\n",
       "    </tr>\n",
       "    <tr>\n",
       "      <th>3</th>\n",
       "      <td>A1WMRR494NWEWV</td>\n",
       "      <td>0733001998</td>\n",
       "      <td>4.0</td>\n",
       "      <td>1382572800</td>\n",
       "    </tr>\n",
       "    <tr>\n",
       "      <th>4</th>\n",
       "      <td>A3IAAVS479H7M7</td>\n",
       "      <td>0737104473</td>\n",
       "      <td>1.0</td>\n",
       "      <td>1274227200</td>\n",
       "    </tr>\n",
       "  </tbody>\n",
       "</table>\n",
       "</div>"
      ],
      "text/plain": [
       "           UserId   ProductId  Rating   Timestamp\n",
       "0  A39HTATAQ9V7YF  0205616461     5.0  1369699200\n",
       "1  A3JM6GV9MNOF9X  0558925278     3.0  1355443200\n",
       "2  A1Z513UWSAAO0F  0558925278     5.0  1404691200\n",
       "3  A1WMRR494NWEWV  0733001998     4.0  1382572800\n",
       "4  A3IAAVS479H7M7  0737104473     1.0  1274227200"
      ]
     },
     "execution_count": 2,
     "metadata": {},
     "output_type": "execute_result"
    }
   ],
   "source": [
    "transactions = pd.read_csv('/Users/noahmiller/Downloads/ratings_Beauty.csv')  # Importing our data\n",
    "transactions.head()  # Taking a look at the first few lines of our data"
   ]
  },
  {
   "cell_type": "markdown",
   "id": "de404dd9",
   "metadata": {},
   "source": [
    "Here we appear to have a data from consisting of four columns. We have a UserId column, representing a unique string identifying the purchaser of the product. The ProductId column represents the unique identifyer for the product that was purchased. Rating refers to the number of stars, from 1 to 5, the purchaser assigned to the product. Ratings with 1 star are very bad while ratings of 5 are very good. Interestingly, it looks like the rating column only consists of whole numbers despite being represented as a float. Finally, we have a timestamp column representing seconds since January 1st, 1970. I am going to use this in some way, though.\n",
    "\n",
    "Let's look at some info concerning the memory of the data."
   ]
  },
  {
   "cell_type": "code",
   "execution_count": 3,
   "id": "98af5062",
   "metadata": {},
   "outputs": [
    {
     "name": "stdout",
     "output_type": "stream",
     "text": [
      "<class 'pandas.core.frame.DataFrame'>\n",
      "RangeIndex: 2023070 entries, 0 to 2023069\n",
      "Data columns (total 4 columns):\n",
      " #   Column     Dtype  \n",
      "---  ------     -----  \n",
      " 0   UserId     object \n",
      " 1   ProductId  object \n",
      " 2   Rating     float64\n",
      " 3   Timestamp  int64  \n",
      "dtypes: float64(1), int64(1), object(2)\n",
      "memory usage: 61.7+ MB\n"
     ]
    }
   ],
   "source": [
    "transactions.info()  # Returns information about dataframe and memory usage"
   ]
  },
  {
   "cell_type": "markdown",
   "id": "2852fe44",
   "metadata": {},
   "source": [
    "Here we can see our dataset consists of 2,023,070 entries and the data frame consists of roughly 62 megabytes of memory usage. This seems quite managable; for other projects, I've had to sample data instead because I cannot fit all of it into Python at once since it was so big. In this case, this is much more reasonable.\n",
    "\n",
    "Next I would like to look at some visual statistics of this data set. I think UserId and ProductId are too unique right now to have any meaningful statistics performed on them, so let's instead focus on rating and timestamp. This allows us to see the distribution of both columns."
   ]
  },
  {
   "cell_type": "code",
   "execution_count": 4,
   "id": "1e9c94f9",
   "metadata": {},
   "outputs": [
    {
     "data": {
      "image/png": "[encoded data removed]",
      "text/plain": [
       "<Figure size 432x288 with 1 Axes>"
      ]
     },
     "metadata": {
      "needs_background": "light"
     },
     "output_type": "display_data"
    }
   ],
   "source": [
    "plt.hist(transactions['Rating'], bins=5, color=\"green\")  # Creating a histogram for ratings\n",
    "plt.xlabel('Rating')  # Label for x-axis\n",
    "plt.ylabel('Frequency')  # Label for y-axis\n",
    "plt.title('Distribution of Ratings')  # Title\n",
    "plt.show()"
   ]
  },
  {
   "cell_type": "markdown",
   "id": "b32ba73b",
   "metadata": {},
   "source": [
    "We can see that five-star ratings are VERY frequent with roughly 1.2 million of these reviews consisting of five-star ratings. To be honest, this does surprise me since I would think, at first, that negative reviews are much more likely. I would imagine displeased customers would want to share their frustrations, while satisfied customers may not have that urgency.\n",
    "\n",
    "Next let's view the timestamp histogram. I'll convert this into a nicer date format instead of just seconds. Since we have to do this across roughly 2 million records, this is a good excuse to show how preprocessing like this can easily be accomplished with parallel processing."
   ]
  },
  {
   "cell_type": "code",
   "execution_count": 5,
   "id": "c276c3ca",
   "metadata": {},
   "outputs": [
    {
     "data": {
      "text/html": [
       "<div>\n",
       "<style scoped>\n",
       "    .dataframe tbody tr th:only-of-type {\n",
       "        vertical-align: middle;\n",
       "    }\n",
       "\n",
       "    .dataframe tbody tr th {\n",
       "        vertical-align: top;\n",
       "    }\n",
       "\n",
       "    .dataframe thead th {\n",
       "        text-align: right;\n",
       "    }\n",
       "</style>\n",
       "<table border=\"1\" class=\"dataframe\">\n",
       "  <thead>\n",
       "    <tr style=\"text-align: right;\">\n",
       "      <th></th>\n",
       "      <th>UserId</th>\n",
       "      <th>ProductId</th>\n",
       "      <th>Rating</th>\n",
       "      <th>Timestamp</th>\n",
       "      <th>Year</th>\n",
       "    </tr>\n",
       "  </thead>\n",
       "  <tbody>\n",
       "    <tr>\n",
       "      <th>0</th>\n",
       "      <td>A39HTATAQ9V7YF</td>\n",
       "      <td>0205616461</td>\n",
       "      <td>5.0</td>\n",
       "      <td>1369699200</td>\n",
       "      <td>2013</td>\n",
       "    </tr>\n",
       "    <tr>\n",
       "      <th>1</th>\n",
       "      <td>A3JM6GV9MNOF9X</td>\n",
       "      <td>0558925278</td>\n",
       "      <td>3.0</td>\n",
       "      <td>1355443200</td>\n",
       "      <td>2012</td>\n",
       "    </tr>\n",
       "    <tr>\n",
       "      <th>2</th>\n",
       "      <td>A1Z513UWSAAO0F</td>\n",
       "      <td>0558925278</td>\n",
       "      <td>5.0</td>\n",
       "      <td>1404691200</td>\n",
       "      <td>2014</td>\n",
       "    </tr>\n",
       "    <tr>\n",
       "      <th>3</th>\n",
       "      <td>A1WMRR494NWEWV</td>\n",
       "      <td>0733001998</td>\n",
       "      <td>4.0</td>\n",
       "      <td>1382572800</td>\n",
       "      <td>2013</td>\n",
       "    </tr>\n",
       "    <tr>\n",
       "      <th>4</th>\n",
       "      <td>A3IAAVS479H7M7</td>\n",
       "      <td>0737104473</td>\n",
       "      <td>1.0</td>\n",
       "      <td>1274227200</td>\n",
       "      <td>2010</td>\n",
       "    </tr>\n",
       "  </tbody>\n",
       "</table>\n",
       "</div>"
      ],
      "text/plain": [
       "           UserId   ProductId  Rating   Timestamp  Year\n",
       "0  A39HTATAQ9V7YF  0205616461     5.0  1369699200  2013\n",
       "1  A3JM6GV9MNOF9X  0558925278     3.0  1355443200  2012\n",
       "2  A1Z513UWSAAO0F  0558925278     5.0  1404691200  2014\n",
       "3  A1WMRR494NWEWV  0733001998     4.0  1382572800  2013\n",
       "4  A3IAAVS479H7M7  0737104473     1.0  1274227200  2010"
      ]
     },
     "execution_count": 5,
     "metadata": {},
     "output_type": "execute_result"
    }
   ],
   "source": [
    "def seconds_to_date(tStamp):\n",
    "    # tStamp refers to a Unix timestamp\n",
    "    return int(datetime.fromtimestamp(tStamp).strftime(\"%Y\"))  # Returning year as an integer\n",
    "\n",
    "with mp.Pool(mp.cpu_count()) as pool:  # Processing in parallel\n",
    "    # This format works super well for preparing data in a parallel fashion\n",
    "    transactions['Year'] = pool.map(seconds_to_date, transactions['Timestamp'])  # Mapping function to multiple cores\n",
    "    pool.close()  # This line and line below ensure core cluster closes safely\n",
    "    pool.join()\n",
    "    \n",
    "transactions.head()  # Ensuring this returns the date in the proper format"
   ]
  },
  {
   "cell_type": "markdown",
   "id": "f0b2c1ec",
   "metadata": {},
   "source": [
    "Let's take a look at the distribution of ratings through the years."
   ]
  },
  {
   "cell_type": "code",
   "execution_count": 6,
   "id": "e7a319b8",
   "metadata": {},
   "outputs": [
    {
     "data": {
      "image/png": "[encoded data removed]",
      "text/plain": [
       "<Figure size 432x288 with 1 Axes>"
      ]
     },
     "metadata": {
      "needs_background": "light"
     },
     "output_type": "display_data"
    }
   ],
   "source": [
    "plt.hist(transactions['Year'], bins=10, color=\"orange\")\n",
    "plt.xlabel('Year')\n",
    "plt.ylabel('Ratings')\n",
    "plt.title('Number of Ratings per Year')\n",
    "plt.show()"
   ]
  },
  {
   "cell_type": "markdown",
   "id": "cf3cee97",
   "metadata": {},
   "source": [
    "It looks like the maximum year here is 2014. This shows me that this data is quite old in comparison to today. We can still use this for the sake of exercise, however. Likewise, this shows me the exponential rate at which Amazon is recieving customers as well as reviews. This could very easily become a big data problem if trends continue at this rate. \n",
    "\n",
    "Also if this number of ratings seems small, recall that this is focused on beauty products instead of ALL of Amazon's sales."
   ]
  },
  {
   "cell_type": "markdown",
   "id": "4ec3a57b",
   "metadata": {},
   "source": [
    "## Step 2: Recommendation System using Collaborative Filtering\n",
    "\n",
    "Here, I will be using the scikit-surprise library, which is a library for implementing recommendation systems via collaborative filtering. I borrowed from the documentation found here: https://surprise.readthedocs.io/en/stable/getting_started.html"
   ]
  },
  {
   "cell_type": "code",
   "execution_count": 7,
   "id": "59129e81",
   "metadata": {},
   "outputs": [],
   "source": [
    "from surprise import Reader, Dataset, SVD\n",
    "from surprise.model_selection.validation import cross_validate  # To ensure our data is usable through cross-validation\n",
    "reader = Reader(rating_scale=(1,5))  # Telling the reader function the rating scale; this should be specified for ratings systems that do not go from 1 to 5.\n",
    "data = Dataset.load_from_df(transactions[['UserId', 'ProductId', 'Rating']], reader)  # Creating format to be accepted by the algorithm below\n",
    "algo = SVD(random_state=123)  # SVD is useful for recommender systems; setting to 123 for consistent results"
   ]
  },
  {
   "cell_type": "markdown",
   "id": "11f7804c",
   "metadata": {},
   "source": [
    "The reader and dataset tools are used to transform our original data into something more understandable by the underlying algorithm. SVD stands for 'singular value decomposition' and is a matrix factorization function, which essentially means it is able to return the more useful parts of a matrix. It can be used for dimensionality reduction as well. It is very popular for recommender systems. For more information, visit https://analyticsindiamag.com/singular-value-decomposition-svd-application-recommender-system/."
   ]
  },
  {
   "cell_type": "code",
   "execution_count": 8,
   "id": "a9d22878",
   "metadata": {},
   "outputs": [
    {
     "name": "stdout",
     "output_type": "stream",
     "text": [
      "Evaluating RMSE, MAE of algorithm SVD on 5 split(s).\n",
      "\n",
      "                  Fold 1  Fold 2  Fold 3  Fold 4  Fold 5  Mean    Std     \n",
      "RMSE (testset)    1.2469  1.2482  1.2516  1.2492  1.2504  1.2493  0.0017  \n",
      "MAE (testset)     0.9760  0.9765  0.9785  0.9770  0.9770  0.9770  0.0008  \n",
      "Fit time          154.89  159.62  158.20  155.76  157.01  157.10  1.69    \n",
      "Test time         6.82    6.10    7.20    6.46    3.18    5.95    1.43    \n"
     ]
    },
    {
     "data": {
      "text/plain": [
       "{'test_rmse': array([1.24685913, 1.24817448, 1.25159463, 1.24921896, 1.25043357]),\n",
       " 'test_mae': array([0.97601783, 0.97649845, 0.97847261, 0.97701516, 0.97699264]),\n",
       " 'fit_time': (154.88916301727295,\n",
       "  159.61985683441162,\n",
       "  158.19871497154236,\n",
       "  155.7611210346222,\n",
       "  157.01192593574524),\n",
       " 'test_time': (6.815099716186523,\n",
       "  6.104542970657349,\n",
       "  7.1976470947265625,\n",
       "  6.45526385307312,\n",
       "  3.17940092086792)}"
      ]
     },
     "execution_count": 8,
     "metadata": {},
     "output_type": "execute_result"
    }
   ],
   "source": [
    "cross_validate(algo, data, measures=['RMSE', 'MAE'], cv=5, verbose=True, n_jobs=-1)\n",
    "# Here we're cross-validating our data. I am using n_jobs = -1 to use all the processors I can "
   ]
  },
  {
   "cell_type": "markdown",
   "id": "887a61b0",
   "metadata": {},
   "source": [
    "It looks like our tests were very consistent here. The RMSE and MAE results in each fold have very small standard deviations, which is a very good sign.\n",
    "\n",
    "Now I am going to create training and testing data sets to train a model and then determine its accuracy. I will be training on 80 percent of the data and then testing on the remaining 20 percent. We will be comparing against existing user ratings. In the real world, we would only be returned with scores of a projected rating for a product; products with high scores might be presented to end users as potential products to purchase, for example."
   ]
  },
  {
   "cell_type": "code",
   "execution_count": 9,
   "id": "a7d2bfb4",
   "metadata": {},
   "outputs": [],
   "source": [
    "from surprise.model_selection import train_test_split  # Useful for splitting data into training and testing sets\n",
    "train, test = train_test_split(data, test_size=.20)  # 20 percent of the data will be used for testing\n",
    "algo.fit(train)  # Training model on the training data set\n",
    "review_predictions = algo.test(test)  # Testing on our est dataset"
   ]
  },
  {
   "cell_type": "markdown",
   "id": "323e3dab",
   "metadata": {},
   "source": [
    "We've now trained the model on our training data, but how accurate are we? I'll use some functions from surprise's accuracy tool to look at some statistics concerning how well we did."
   ]
  },
  {
   "cell_type": "code",
   "execution_count": 10,
   "id": "1a3d6dcc",
   "metadata": {},
   "outputs": [
    {
     "name": "stdout",
     "output_type": "stream",
     "text": [
      "RMSE: 1.2486\n",
      "MSE: 1.5591\n",
      "MAE:  0.9765\n",
      "FCP:  0.5154\n",
      "\n"
     ]
    }
   ],
   "source": [
    "from surprise import accuracy  # Contains functions to determine how well the model performed\n",
    "accuracy.rmse(review_predictions)  # Returns root mean square error\n",
    "accuracy.mse(review_predictions)  # Returns mean square error\n",
    "accuracy.mae(review_predictions)  # Returns mean actual error\n",
    "accuracy.fcp(review_predictions)  # Returns fraction of concordant pairs \n",
    "print(\"\")  # For some reason MAE gets printed twice, so this is like a buffer for that"
   ]
  },
  {
   "cell_type": "markdown",
   "id": "1aa627ae",
   "metadata": {},
   "source": [
    "These results are quite similar to the results of our cross-validation. On average, it seems like our recommendations are off by less than 1 star; the significance of this is arguable, but for a first pass it could be acceptable. I'd like to try running this again with more data to see if we can converge towards a lower value.\n",
    "\n",
    "Overall, I am surprised how quickly and easily this kind of recommender system could be created, especially for data with over 2 million records. I can imagine the implementation and scaling of this algorithm is more difficult, but this is a good start. Likewise, this was new for me as far as data science is concerned. I can see how a model like this could be used to determine which products should be recommended on a user's shopping page on a website like Amazon or eBay or watch page, in the case of services like Netflix or Hulu. "
   ]
  },
  {
   "cell_type": "markdown",
   "id": "aba5e9eb",
   "metadata": {},
   "source": [
    "# Project Information\n",
    "\n",
    "Source for Data:\n",
    "https://www.kaggle.com/datasets/skillsmuggler/amazon-ratings\n",
    "\n",
    "System Information:\n",
    "2020 M1 MacBook Pro, 16 GB Unified Memory"
   ]
  }
 ],
 "metadata": {
  "kernelspec": {
   "display_name": "Python 3",
   "language": "python",
   "name": "python3"
  },
  "language_info": {
   "codemirror_mode": {
    "name": "ipython",
    "version": 3
   },
   "file_extension": ".py",
   "mimetype": "text/x-python",
   "name": "python",
   "nbconvert_exporter": "python",
   "pygments_lexer": "ipython3",
   "version": "3.8.8"
  }
 },
 "nbformat": 4,
 "nbformat_minor": 5
}
